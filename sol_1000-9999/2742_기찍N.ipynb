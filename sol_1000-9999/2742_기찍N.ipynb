{
 "cells": [
  {
   "cell_type": "markdown",
   "id": "e48bde4d",
   "metadata": {},
   "source": [
    "### 문제\n",
    "자연수 N이 주어졌을 때, N부터 1까지 한 줄에 하나씩 출력하는 프로그램을 작성하시오.\n",
    "\n",
    "### 입력\n",
    "첫째 줄에 100,000보다 작거나 같은 자연수 N이 주어진다.\n",
    "\n",
    "### 출력\n",
    "첫째 줄부터 N번째 줄 까지 차례대로 출력한다.\n",
    "\n",
    "### 알고리즘 분류\n",
    "구현"
   ]
  },
  {
   "cell_type": "markdown",
   "id": "48e1dd05",
   "metadata": {},
   "source": [
    "### # 문제 접근 방법\n",
    "1. range함수에 n부터 1까지 출력하기 위해 step에 -1, start에 n 입력한다.\n",
    "2. end의 값은 하나 전까지가 범위에 포함되기 때문에 1이 나오기 위해 end에는 0을 입력한다."
   ]
  },
  {
   "cell_type": "code",
   "execution_count": null,
   "id": "3136a651",
   "metadata": {},
   "outputs": [],
   "source": [
    "import sys\n",
    "n = int(sys.stdin.readline())\n",
    "\n",
    "for i in range(n,0,-1):\n",
    "    print(i)"
   ]
  }
 ],
 "metadata": {
  "kernelspec": {
   "display_name": "Python 3 (ipykernel)",
   "language": "python",
   "name": "python3"
  },
  "language_info": {
   "codemirror_mode": {
    "name": "ipython",
    "version": 3
   },
   "file_extension": ".py",
   "mimetype": "text/x-python",
   "name": "python",
   "nbconvert_exporter": "python",
   "pygments_lexer": "ipython3",
   "version": "3.9.7"
  }
 },
 "nbformat": 4,
 "nbformat_minor": 5
}
