{
 "cells": [
  {
   "cell_type": "markdown",
   "id": "eb31b7fe",
   "metadata": {},
   "source": [
    "### 문제 (https://www.acmicpc.net/problem/10818)\n",
    "N개의 정수가 주어진다. 이때, 최솟값과 최댓값을 구하는 프로그램을 작성하시오.\n",
    "\n",
    "### 입력\n",
    "첫째 줄에 정수의 개수 N (1 ≤ N ≤ 1,000,000)이 주어진다. 둘째 줄에는 N개의 정수를 공백으로 구분해서 주어진다. 모든 정수는 -1,000,000보다 크거나 같고, 1,000,000보다 작거나 같은 정수이다.\n",
    "\n",
    "### 출력\n",
    "첫째 줄에 주어진 정수 N개의 최솟값과 최댓값을 공백으로 구분해 출력한다.\n",
    "\n",
    "### 알고리즘 분류\n",
    "수학, 구현"
   ]
  },
  {
   "cell_type": "markdown",
   "id": "8255e850",
   "metadata": {},
   "source": [
    "### # 문제 접근 방법\n",
    "1. 둘째 줄에서 받은 값을 리스트로 저장한다.\n",
    "2. 1의 리스트를 오름차순으로 정렬한다.\n",
    "3. 0번째 인덱스의 값이 최솟값, n-1번째 인덱스의 값이 최댓값이 된다."
   ]
  },
  {
   "cell_type": "code",
   "execution_count": null,
   "id": "f134bb9f",
   "metadata": {},
   "outputs": [],
   "source": [
    "import sys\n",
    "n = int(sys.stdin.readline())\n",
    "data = list(map(int,sys.stdin.readline().split()))\n",
    "\n",
    "data.sort()\n",
    "\n",
    "min_num = data[0]\n",
    "max_num = data[n-1]\n",
    "print(min_num, max_num)"
   ]
  }
 ],
 "metadata": {
  "kernelspec": {
   "display_name": "Python 3 (ipykernel)",
   "language": "python",
   "name": "python3"
  },
  "language_info": {
   "codemirror_mode": {
    "name": "ipython",
    "version": 3
   },
   "file_extension": ".py",
   "mimetype": "text/x-python",
   "name": "python",
   "nbconvert_exporter": "python",
   "pygments_lexer": "ipython3",
   "version": "3.9.7"
  }
 },
 "nbformat": 4,
 "nbformat_minor": 5
}
