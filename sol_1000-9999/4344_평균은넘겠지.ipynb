{
 "cells": [
  {
   "cell_type": "markdown",
   "id": "37b11ebf",
   "metadata": {},
   "source": [
    "### 문제\n",
    "대학생 새내기들의 90%는 자신이 반에서 평균은 넘는다고 생각한다. 당신은 그들에게 슬픈 진실을 알려줘야 한다.\n",
    "### 입력\n",
    "첫째 줄에는 테스트 케이스의 개수 C가 주어진다.\n",
    "\n",
    "둘째 줄부터 각 테스트 케이스마다 학생의 수 N(1 ≤ N ≤ 1000, N은 정수)이 첫 수로 주어지고, 이어서 N명의 점수가 주어진다. 점수는 0보다 크거나 같고, 100보다 작거나 같은 정수이다.\n",
    "### 출력\n",
    "각 케이스마다 한 줄씩 평균을 넘는 학생들의 비율을 반올림하여 소수점 셋째 자리까지 출력한다.\n",
    "### 알고리즘 분류\n",
    "수학, 사칙연산"
   ]
  },
  {
   "cell_type": "markdown",
   "id": "079ce1df",
   "metadata": {},
   "source": [
    "### # 문제 접근 방법\n",
    "1.  두 번째 줄 이후부터 받은 값을 한 줄씩 리스트 data에 저장하고 한 줄씩 계산하기 위해 for문을 이용한다.\n",
    "2. data에 있는 학생들의 점수의 합을 구하기 위해sum함수를 사용하는데, data의 인데스0의 값은 data의 요소 개수를 나타나기 때문에 인덱스 1부터 합을 구하도록 범위를 정해준다.\n",
    "3. 2에서 구한 학생들의 점수의 합을 data의 인덱스 0번 값으로 나눠 평균을 구해 변수 avg에 저장한다.\n",
    "4. for문과 if문을 이용해 data에 있는 학생들의 각 점수가 평균(avg)보다 크면 count변수에 1씩 더해 그 횟수를 구한다. \n",
    "5. 빈 리스트인 rate에 평균을 넘은 학생의 비율을 저장한다.\n",
    "6. for문을 이용해 rate의 값에 소수점 아래 3자리까지 나오도록 형식을 주고 한 줄씩 출력한다.\n",
    "7. 이를 n번(n : 첫 번째 줄로 받은 값) 반복한다."
   ]
  },
  {
   "cell_type": "code",
   "execution_count": null,
   "id": "0415568d",
   "metadata": {},
   "outputs": [],
   "source": [
    "n = int(input())\n",
    "rate = []\n",
    "for i in range(n):\n",
    "    data = list(map(int, input().split()))\n",
    "    count = 0\n",
    "    avg = sum(data[1:])/data[0]\n",
    "\n",
    "    for i in range(1,len(data)):\n",
    "        if avg < data[i]:\n",
    "            count += 1\n",
    "    rate.append(count/data[0]*100)\n",
    "\n",
    "for k in rate:\n",
    "    print('%.3f%%'%k)"
   ]
  }
 ],
 "metadata": {
  "kernelspec": {
   "display_name": "Python 3 (ipykernel)",
   "language": "python",
   "name": "python3"
  },
  "language_info": {
   "codemirror_mode": {
    "name": "ipython",
    "version": 3
   },
   "file_extension": ".py",
   "mimetype": "text/x-python",
   "name": "python",
   "nbconvert_exporter": "python",
   "pygments_lexer": "ipython3",
   "version": "3.9.7"
  }
 },
 "nbformat": 4,
 "nbformat_minor": 5
}
