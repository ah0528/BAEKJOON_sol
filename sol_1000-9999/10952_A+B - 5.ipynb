{
 "cells": [
  {
   "cell_type": "markdown",
   "id": "9712c564",
   "metadata": {},
   "source": [
    "### 문제\n",
    "두 정수 A와 B를 입력받은 다음, A+B를 출력하는 프로그램을 작성하시오.\n",
    "\n",
    "### 입력\n",
    "입력은 여러 개의 테스트 케이스로 이루어져 있다.\n",
    "\n",
    "각 테스트 케이스는 한 줄로 이루어져 있으며, 각 줄에 A와 B가 주어진다. (0 < A, B < 10)\n",
    "\n",
    "입력의 마지막에는 0 두 개가 들어온다.\n",
    "\n",
    "### 출력\n",
    "각 테스트 케이스마다 A+B를 출력한다.\n",
    "\n",
    "### 알고리즘 분류\n",
    "수학, 구현, 사칙연산"
   ]
  },
  {
   "cell_type": "markdown",
   "id": "9cd3536d",
   "metadata": {},
   "source": [
    "### # 문제 접근 방법\n",
    "1. 문제에서 마지막 입력에는 0 두 개가 들어온다고 지정되어있어 if문을 사용해서 a와 b가 0이면 break문으로 while문이 끝나게 구현했다.\n",
    "2. a와 b가 0 일때는 합 값이 출력되지 않도록 합계의 값을 출력하는 프린트 문은 break문 다음에 넣었다."
   ]
  },
  {
   "cell_type": "code",
   "execution_count": null,
   "id": "2e0a8f4f",
   "metadata": {},
   "outputs": [],
   "source": [
    "import sys\n",
    "\n",
    "while True:\n",
    "    a, b = map(int, sys.stdin.readline().split())\n",
    "    if a == 0 and b == 0:\n",
    "        break\n",
    "    print(a + b)"
   ]
  }
 ],
 "metadata": {
  "kernelspec": {
   "display_name": "Python 3 (ipykernel)",
   "language": "python",
   "name": "python3"
  },
  "language_info": {
   "codemirror_mode": {
    "name": "ipython",
    "version": 3
   },
   "file_extension": ".py",
   "mimetype": "text/x-python",
   "name": "python",
   "nbconvert_exporter": "python",
   "pygments_lexer": "ipython3",
   "version": "3.9.7"
  }
 },
 "nbformat": 4,
 "nbformat_minor": 5
}
