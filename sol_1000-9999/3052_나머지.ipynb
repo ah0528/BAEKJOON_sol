{
 "cells": [
  {
   "cell_type": "markdown",
   "id": "78fa6413",
   "metadata": {},
   "source": [
    "### 문제\n",
    "두 자연수 A와 B가 있을 때, A%B는 A를 B로 나눈 나머지 이다. 예를 들어, 7, 14, 27, 38을 3으로 나눈 나머지는 1, 2, 0, 2이다. \n",
    "\n",
    "수 10개를 입력받은 뒤, 이를 42로 나눈 나머지를 구한다. 그 다음 서로 다른 값이 몇 개 있는지 출력하는 프로그램을 작성하시오.\n",
    "### 입력\n",
    "첫째 줄부터 열번째 줄 까지 숫자가 한 줄에 하나씩 주어진다. 이 숫자는 1,000보다 작거나 같고, 음이 아닌 정수이다.\n",
    "### 출력\n",
    "첫째 줄에, 42로 나누었을 때, 서로 다른 나머지가 몇 개 있는지 출력한다.\n",
    "### 알고리즘 분류\n",
    "수학, 사칙연산"
   ]
  },
  {
   "cell_type": "markdown",
   "id": "0fabcf0e",
   "metadata": {},
   "source": [
    "### # 문제 접근 방법\n",
    "1. 입력 받는 10개의 수를 빈 리스트 a에 저장하고, 입력은 10번만 받기 위해 count 변수를 이용한다.\n",
    "2. for문을 사용해 a의 각 요소를 42로 나눈 나머지 값을 빈 리스트 result에 저장한다.\n",
    "3. 중복된 값을 제거하기 위해 리스트 result를 set 자료구조형으로 만들어 newResult 변수에 저장한다.\n",
    "4. len함수를 이용해 셋 newResult의 요소 개수를 구해 출력한다."
   ]
  },
  {
   "cell_type": "code",
   "execution_count": null,
   "id": "69d81be6",
   "metadata": {},
   "outputs": [],
   "source": [
    "count = 0\n",
    "a = []\n",
    "while count < 10:\n",
    "    a.append(int(input()))\n",
    "    count += 1\n",
    "\n",
    "result = []\n",
    "for n in a:\n",
    "    result.append(n % 42)\n",
    "\n",
    "newResult = set(result)\n",
    "print(len(newResult))"
   ]
  }
 ],
 "metadata": {
  "kernelspec": {
   "display_name": "Python 3 (ipykernel)",
   "language": "python",
   "name": "python3"
  },
  "language_info": {
   "codemirror_mode": {
    "name": "ipython",
    "version": 3
   },
   "file_extension": ".py",
   "mimetype": "text/x-python",
   "name": "python",
   "nbconvert_exporter": "python",
   "pygments_lexer": "ipython3",
   "version": "3.9.7"
  }
 },
 "nbformat": 4,
 "nbformat_minor": 5
}
