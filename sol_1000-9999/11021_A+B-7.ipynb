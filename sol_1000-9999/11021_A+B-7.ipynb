{
 "cells": [
  {
   "cell_type": "markdown",
   "id": "34424409",
   "metadata": {},
   "source": [
    "### 문제(https://www.acmicpc.net/problem/11021)\n",
    "두 정수 A와 B를 입력받은 다음, A+B를 출력하는 프로그램을 작성하시오.\n",
    "\n",
    "### 입력\n",
    "첫째 줄에 테스트 케이스의 개수 T가 주어진다.\n",
    "\n",
    "각 테스트 케이스는 한 줄로 이루어져 있으며, 각 줄에 A와 B가 주어진다. (0 < A, B < 10)\n",
    "\n",
    "### 출력\n",
    "각 테스트 케이스마다 \"Case #x: \"를 출력한 다음, A+B를 출력한다. 테스트 케이스 번호는 1부터 시작한다.\n",
    "\n",
    "### 알고리즘 분류\n",
    "수학, 구현, 사칙연산"
   ]
  },
  {
   "cell_type": "markdown",
   "id": "829fd376",
   "metadata": {},
   "source": [
    "### # 문제 접근 방식\n",
    "1. data에 입력한 두 값을 빈칸을 기준으로 split해서 요소로 저장한다.\n",
    "2. data의 요소들을 합하기 위해 sum함수를 사용하고, 그 결과를 result에 추가한다.\n",
    "3. for문으로 result의 요소를 하나씩 출력하는데, 각 테스트 케이스마다 \"Case #x: \"도 함께 출력하기 위하여 포맷팅을 한다."
   ]
  },
  {
   "cell_type": "code",
   "execution_count": null,
   "id": "ab5e4ce5",
   "metadata": {},
   "outputs": [],
   "source": [
    "import sys\n",
    "n = int(sys.stdin.readline())\n",
    "\n",
    "result = []\n",
    "for _ in range(n):\n",
    "    data = list(map(int,sys.stdin.readline().split()))\n",
    "    result.append(sum(data))\n",
    "\n",
    "for i in range(len(result)):\n",
    "    print(f'Case #{i+1}: {result[i]}')"
   ]
  }
 ],
 "metadata": {
  "kernelspec": {
   "display_name": "Python 3 (ipykernel)",
   "language": "python",
   "name": "python3"
  },
  "language_info": {
   "codemirror_mode": {
    "name": "ipython",
    "version": 3
   },
   "file_extension": ".py",
   "mimetype": "text/x-python",
   "name": "python",
   "nbconvert_exporter": "python",
   "pygments_lexer": "ipython3",
   "version": "3.9.7"
  }
 },
 "nbformat": 4,
 "nbformat_minor": 5
}
