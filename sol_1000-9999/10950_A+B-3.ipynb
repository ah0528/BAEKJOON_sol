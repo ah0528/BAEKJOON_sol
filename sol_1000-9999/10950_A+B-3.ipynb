{
 "cells": [
  {
   "cell_type": "markdown",
   "id": "56f75647",
   "metadata": {},
   "source": [
    "### 문제\n",
    "두 정수 A와 B를 입력받은 다음, A+B를 출력하는 프로그램을 작성하시오.\n",
    "\n",
    "### 입력\n",
    "첫째 줄에 테스트 케이스의 개수 T가 주어진다.\n",
    "\n",
    "각 테스트 케이스는 한 줄로 이루어져 있으며, 각 줄에 A와 B가 주어진다. (0 < A, B < 10)\n",
    "\n",
    "### 출력\n",
    "각 테스트 케이스마다 A+B를 출력한다.\n",
    "\n",
    "### 알고리즘 분류\n",
    "수학, 구현, 사칙연산"
   ]
  },
  {
   "cell_type": "markdown",
   "id": "55e7bd20",
   "metadata": {},
   "source": [
    "### # 문제 접근 방법\n",
    "1. 두번째 줄 이후에 받은 값들을 한 줄씩 data에 리스트 형태로 저장한다.\n",
    "2. sum함수를 이용해 data 요소들을 더한 값을 빈 리스트 result에 저장한다.\n",
    "3. for문을 첫번째 줄에 받은 수(n)만큼 반복한다.\n",
    "4. result의 요소들을 한 줄씩 출력하기 위해 for문을 사용한다."
   ]
  },
  {
   "cell_type": "code",
   "execution_count": null,
   "id": "42a994f3",
   "metadata": {},
   "outputs": [],
   "source": [
    "import sys\n",
    "n = int(sys.stdin.readline())\n",
    "result = []\n",
    "\n",
    "for i in range(n):\n",
    "    data = list(map(int, sys.stdin.readline().split()))\n",
    "    result.append(sum(data))\n",
    "\n",
    "for k in result:\n",
    "    print(k)"
   ]
  }
 ],
 "metadata": {
  "kernelspec": {
   "display_name": "Python 3 (ipykernel)",
   "language": "python",
   "name": "python3"
  },
  "language_info": {
   "codemirror_mode": {
    "name": "ipython",
    "version": 3
   },
   "file_extension": ".py",
   "mimetype": "text/x-python",
   "name": "python",
   "nbconvert_exporter": "python",
   "pygments_lexer": "ipython3",
   "version": "3.9.7"
  }
 },
 "nbformat": 4,
 "nbformat_minor": 5
}
