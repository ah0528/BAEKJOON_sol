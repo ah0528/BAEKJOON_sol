{
 "cells": [
  {
   "cell_type": "markdown",
   "id": "13cdc4ad",
   "metadata": {},
   "source": [
    "### 문제\n",
    "첫째 줄에는 별 1개, 둘째 줄에는 별 2개, N번째 줄에는 별 N개를 찍는 문제\n",
    "\n",
    "### 입력\n",
    "첫째 줄에 N(1 ≤ N ≤ 100)이 주어진다.\n",
    "\n",
    "### 출력\n",
    "첫째 줄부터 N번째 줄까지 차례대로 별을 출력한다.\n",
    "\n",
    "### 알고리즘 분류\n",
    "구현"
   ]
  },
  {
   "cell_type": "markdown",
   "id": "1b1a8dcf",
   "metadata": {},
   "source": [
    "### # 문제 접근 방법\n",
    "반목문 for문을 사용하는데, 그 범위는 입력받은 1부터 n+1로 정한다."
   ]
  },
  {
   "cell_type": "code",
   "execution_count": null,
   "id": "fcdc7e5e",
   "metadata": {},
   "outputs": [],
   "source": [
    "import sys\n",
    "n = int(sys.stdin.readline())\n",
    "\n",
    "for i in range(1,n+1):\n",
    "    print(i*'*')"
   ]
  }
 ],
 "metadata": {
  "kernelspec": {
   "display_name": "Python 3 (ipykernel)",
   "language": "python",
   "name": "python3"
  },
  "language_info": {
   "codemirror_mode": {
    "name": "ipython",
    "version": 3
   },
   "file_extension": ".py",
   "mimetype": "text/x-python",
   "name": "python",
   "nbconvert_exporter": "python",
   "pygments_lexer": "ipython3",
   "version": "3.9.7"
  }
 },
 "nbformat": 4,
 "nbformat_minor": 5
}
