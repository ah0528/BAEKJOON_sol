{
 "cells": [
  {
   "cell_type": "markdown",
   "id": "cb13a1eb",
   "metadata": {},
   "source": [
    "### 문제\n",
    "N을 입력받은 뒤, 구구단 N단을 출력하는 프로그램을 작성하시오. 출력 형식에 맞춰서 출력하면 된다.\n",
    "### 입력\n",
    "첫째 줄에 N이 주어진다. N은 1보다 크거나 같고, 9보다 작거나 같다.\n",
    "### 출력\n",
    "출력형식과 같게 N*1부터 N*9까지 출력한다.\n",
    "### 알고리즘 분류\n",
    "수학, 구현, 사칙연산"
   ]
  },
  {
   "cell_type": "markdown",
   "id": "4e728c99",
   "metadata": {},
   "source": [
    "### # 문제 접근 방법\n",
    "for문을 사용해 구구단을 구현한다."
   ]
  },
  {
   "cell_type": "code",
   "execution_count": null,
   "id": "1bdec7a2",
   "metadata": {},
   "outputs": [],
   "source": [
    "import sys\n",
    "num = int(sys.stdin.readline())\n",
    "\n",
    "for i in range(1,10):\n",
    "    print(f'{num} * {i} = {num*i}')"
   ]
  }
 ],
 "metadata": {
  "kernelspec": {
   "display_name": "Python 3 (ipykernel)",
   "language": "python",
   "name": "python3"
  },
  "language_info": {
   "codemirror_mode": {
    "name": "ipython",
    "version": 3
   },
   "file_extension": ".py",
   "mimetype": "text/x-python",
   "name": "python",
   "nbconvert_exporter": "python",
   "pygments_lexer": "ipython3",
   "version": "3.9.7"
  }
 },
 "nbformat": 4,
 "nbformat_minor": 5
}
