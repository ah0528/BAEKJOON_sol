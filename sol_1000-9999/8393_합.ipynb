{
 "cells": [
  {
   "cell_type": "markdown",
   "id": "357206e9",
   "metadata": {},
   "source": [
    "### 문제\n",
    "n이 주어졌을 때, 1부터 n까지 합을 구하는 프로그램을 작성하시오.\n",
    "\n",
    "### 입력\n",
    "첫째 줄에 n (1 ≤ n ≤ 10,000)이 주어진다.\n",
    "\n",
    "### 출력\n",
    "1부터 n까지 합을 출력한다.\n",
    "\n",
    "### 알고리즘 분류\n",
    "수학, 구현"
   ]
  },
  {
   "cell_type": "markdown",
   "id": "cb707e52",
   "metadata": {},
   "source": [
    "### # 문제 접근 방법\n",
    "1. 변수 sum에 0을 할당한다.\n",
    "2. for문을 이용해 1부터 입력한 정수 n을 더한다."
   ]
  },
  {
   "cell_type": "code",
   "execution_count": null,
   "id": "35f9c2cc",
   "metadata": {},
   "outputs": [],
   "source": [
    "import sys\n",
    "n = int(sys.stdin.readline())\n",
    "\n",
    "sum = 0\n",
    "\n",
    "for i in range(n+1):\n",
    "    sum += i\n",
    "\n",
    "print(sum)"
   ]
  }
 ],
 "metadata": {
  "kernelspec": {
   "display_name": "Python 3 (ipykernel)",
   "language": "python",
   "name": "python3"
  },
  "language_info": {
   "codemirror_mode": {
    "name": "ipython",
    "version": 3
   },
   "file_extension": ".py",
   "mimetype": "text/x-python",
   "name": "python",
   "nbconvert_exporter": "python",
   "pygments_lexer": "ipython3",
   "version": "3.9.7"
  }
 },
 "nbformat": 4,
 "nbformat_minor": 5
}
