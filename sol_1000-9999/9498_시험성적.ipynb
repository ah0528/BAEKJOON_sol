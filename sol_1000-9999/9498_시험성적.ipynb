{
 "cells": [
  {
   "cell_type": "markdown",
   "id": "dfd8035a",
   "metadata": {},
   "source": [
    "### 문제\n",
    "시험 점수를 입력받아 90 ~ 100점은 A, 80 ~ 89점은 B, 70 ~ 79점은 C, 60 ~ 69점은 D, 나머지 점수는 F를 출력하는 프로그램을 작성하시오.\n",
    "\n",
    "### 입력\n",
    "첫째 줄에 시험 점수가 주어진다. 시험 점수는 0보다 크거나 같고, 100보다 작거나 같은 정수이다.\n",
    "\n",
    "### 출력\n",
    "시험 성적을 출력한다.\n",
    "\n",
    "### 알고리즘 분류\n",
    "구현"
   ]
  },
  {
   "cell_type": "markdown",
   "id": "0c7307ba",
   "metadata": {},
   "source": [
    "### # 문제 접근 방법\n",
    "if문으로 구현한다."
   ]
  },
  {
   "cell_type": "code",
   "execution_count": null,
   "id": "0ce714a2",
   "metadata": {},
   "outputs": [],
   "source": [
    "import sys\n",
    "score = int(sys.stdin.readline())\n",
    "\n",
    "if score >= 90:\n",
    "    print('A')\n",
    "elif score >= 80:\n",
    "    print('B')\n",
    "elif score >= 70:\n",
    "    print('C')\n",
    "elif score >= 60:\n",
    "    print('D')\n",
    "else:\n",
    "    print('F')"
   ]
  }
 ],
 "metadata": {
  "kernelspec": {
   "display_name": "Python 3 (ipykernel)",
   "language": "python",
   "name": "python3"
  },
  "language_info": {
   "codemirror_mode": {
    "name": "ipython",
    "version": 3
   },
   "file_extension": ".py",
   "mimetype": "text/x-python",
   "name": "python",
   "nbconvert_exporter": "python",
   "pygments_lexer": "ipython3",
   "version": "3.9.7"
  }
 },
 "nbformat": 4,
 "nbformat_minor": 5
}
