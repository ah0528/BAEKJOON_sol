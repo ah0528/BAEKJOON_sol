{
 "cells": [
  {
   "cell_type": "markdown",
   "id": "45cd5f89",
   "metadata": {},
   "source": [
    "### 문제\n",
    "세준이는 기말고사를 망쳤다. 세준이는 점수를 조작해서 집에 가져가기로 했다. 일단 세준이는 자기 점수 중에 최댓값을 골랐다. 이 값을 M이라고 한다. 그리고 나서 모든 점수를 점수/M*100으로 고쳤다.\n",
    "\n",
    "예를 들어, 세준이의 최고점이 70이고, 수학점수가 50이었으면 수학점수는 50/70*100이 되어 71.43점이 된다.\n",
    "\n",
    "세준이의 성적을 위의 방법대로 새로 계산했을 때, 새로운 평균을 구하는 프로그램을 작성하시오.\n",
    "### 입력\n",
    "첫째 줄에 시험 본 과목의 개수 N이 주어진다. 이 값은 1000보다 작거나 같다. 둘째 줄에 세준이의 현재 성적이 주어진다. 이 값은 100보다 작거나 같은 음이 아닌 정수이고, 적어도 하나의 값은 0보다 크다.\n",
    "### 출력\n",
    "첫째 줄에 새로운 평균을 출력한다. 실제 정답과 출력값의 절대오차 또는 상대오차가 10-2 이하이면 정답이다.\n",
    "### 알고리즘 분류\n",
    "수학, 사칙연산"
   ]
  },
  {
   "cell_type": "markdown",
   "id": "de8cfde2",
   "metadata": {},
   "source": [
    "### # 문제 접근 방법\n",
    "1. 두번째 줄에 받는 값을 리스트 함수를 사용해서 data에 저장한다.\n",
    "2. max함수로 리스트에서 data에서 최댓값을 구해 변수 maxScore에 저장한다.\n",
    "3. for문을 사용해 data의 요소 값에 계산을 해 빈 리스트 result에 저장한다.\n",
    "4. sum함수를 사용해 리스트 result의 요소들의 합을 구하고, 첫 번째 줄로 입력받은 값으로 나눠 출력한다."
   ]
  },
  {
   "cell_type": "code",
   "execution_count": null,
   "id": "bc1dfd56",
   "metadata": {},
   "outputs": [],
   "source": [
    "import sys\n",
    "n = int(sys.stdin.readline())\n",
    "data = list(map(int,sys.stdin.readline().split()))\n",
    "\n",
    "maxScore = max(data)\n",
    "\n",
    "result = []\n",
    "for i in data:\n",
    "    result.append(i/maxScore*100)\n",
    "\n",
    "print(sum(result)/n)"
   ]
  }
 ],
 "metadata": {
  "kernelspec": {
   "display_name": "Python 3 (ipykernel)",
   "language": "python",
   "name": "python3"
  },
  "language_info": {
   "codemirror_mode": {
    "name": "ipython",
    "version": 3
   },
   "file_extension": ".py",
   "mimetype": "text/x-python",
   "name": "python",
   "nbconvert_exporter": "python",
   "pygments_lexer": "ipython3",
   "version": "3.9.7"
  }
 },
 "nbformat": 4,
 "nbformat_minor": 5
}
