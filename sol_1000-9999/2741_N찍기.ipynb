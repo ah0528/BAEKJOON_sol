{
 "cells": [
  {
   "cell_type": "markdown",
   "id": "a04b5598",
   "metadata": {},
   "source": [
    "### 문제\n",
    "자연수 N이 주어졌을 때, 1부터 N까지 한 줄에 하나씩 출력하는 프로그램을 작성하시오.\n",
    "\n",
    "### 입력\n",
    "첫째 줄에 100,000보다 작거나 같은 자연수 N이 주어진다.\n",
    "\n",
    "### 출력\n",
    "첫째 줄부터 N번째 줄 까지 차례대로 출력한다.\n",
    "\n",
    "### 알고리즘 분류\n",
    "구현"
   ]
  },
  {
   "cell_type": "markdown",
   "id": "786c1969",
   "metadata": {},
   "source": [
    "### # 문제 접근 방법\n",
    "1. range(start,stop)함수에서 0이 아닌 1부터 시작하기위해 start에는 1을 입력하고, 입력한 n을 출력하기 위해 stop에는 n+1을 입력한다.\n",
    "2. for문을 이용해 range함수로 지정한 범위만큼 하나씩 출력한다.\n"
   ]
  },
  {
   "cell_type": "code",
   "execution_count": null,
   "id": "2e0696d7",
   "metadata": {},
   "outputs": [],
   "source": [
    "import sys\n",
    "n = int(sys.stdin.readline())\n",
    "\n",
    "for i in range(1,n+1):\n",
    "    print(i)"
   ]
  }
 ],
 "metadata": {
  "kernelspec": {
   "display_name": "Python 3 (ipykernel)",
   "language": "python",
   "name": "python3"
  },
  "language_info": {
   "codemirror_mode": {
    "name": "ipython",
    "version": 3
   },
   "file_extension": ".py",
   "mimetype": "text/x-python",
   "name": "python",
   "nbconvert_exporter": "python",
   "pygments_lexer": "ipython3",
   "version": "3.9.7"
  }
 },
 "nbformat": 4,
 "nbformat_minor": 5
}
