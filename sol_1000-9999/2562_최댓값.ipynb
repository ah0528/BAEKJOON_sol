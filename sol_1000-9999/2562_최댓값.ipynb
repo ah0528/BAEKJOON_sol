{
 "cells": [
  {
   "cell_type": "markdown",
   "id": "2b4cfac5",
   "metadata": {},
   "source": [
    "### 문제\n",
    "9개의 서로 다른 자연수가 주어질 때, 이들 중 최댓값을 찾고 그 최댓값이 몇 번째 수인지를 구하는 프로그램을 작성하시오.\n",
    "\n",
    "예를 들어, 서로 다른 9개의 자연수\n",
    "\n",
    "3, 29, 38, 12, 57, 74, 40, 85, 61\n",
    "\n",
    "이 주어지면, 이들 중 최댓값은 85이고, 이 값은 8번째 수이다.\n",
    "\n",
    "### 입력\n",
    "첫째 줄부터 아홉 번째 줄까지 한 줄에 하나의 자연수가 주어진다. 주어지는 자연수는 100 보다 작다.\n",
    "\n",
    "### 출력\n",
    "첫째 줄에 최댓값을 출력하고, 둘째 줄에 최댓값이 몇 번째 수인지를 출력한다.\n",
    "\n",
    "### 알고리즘 분류\n",
    "구현"
   ]
  },
  {
   "cell_type": "markdown",
   "id": "081cef41",
   "metadata": {},
   "source": [
    "### # 문제 접근 방법\n",
    "1. 입력받은 값을 정수형으로 변환하고 리스트 data에 저장한다.\n",
    "2. sorted 함수를 사용해 data의 요소들을 오름차순으로 정렬한 리스트 data_sort를 만든다.\n",
    "3. 9개의 자연수를 입력받기 때문에 n의 값에 9를 할당하고, data_sort의 마지막 인덱스(n-1)가 최댓값이 된다.\n",
    "4. 최댓값을 변수 data_max에 할당하고, 원본 리스트인 리스트 data에서 최댓값의 위치는 인덱스 메서드를 사용해 구한다.\n",
    "5. index의 값은 0부터 시작하기 때문에 출력할 때는 1을 더해 몇 번째 값인지 나타낸다."
   ]
  },
  {
   "cell_type": "code",
   "execution_count": null,
   "id": "a4254217",
   "metadata": {},
   "outputs": [],
   "source": [
    "import sys\n",
    "n = 9\n",
    "data = [int(sys.stdin.readline().strip()) for i in range(n)]\n",
    "# print(data)\n",
    "data_sort = sorted(data)\n",
    "data_max = data_sort[n-1]\n",
    "data_index = data.index(data_max)\n",
    "\n",
    "print(data_max)\n",
    "print(data_index+1)"
   ]
  }
 ],
 "metadata": {
  "kernelspec": {
   "display_name": "Python 3 (ipykernel)",
   "language": "python",
   "name": "python3"
  },
  "language_info": {
   "codemirror_mode": {
    "name": "ipython",
    "version": 3
   },
   "file_extension": ".py",
   "mimetype": "text/x-python",
   "name": "python",
   "nbconvert_exporter": "python",
   "pygments_lexer": "ipython3",
   "version": "3.9.7"
  }
 },
 "nbformat": 4,
 "nbformat_minor": 5
}
