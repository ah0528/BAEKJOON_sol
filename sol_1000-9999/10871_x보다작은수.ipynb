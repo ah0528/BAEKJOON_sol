{
 "cells": [
  {
   "cell_type": "markdown",
   "id": "f08ba476",
   "metadata": {},
   "source": [
    "### 문제 (https://www.acmicpc.net/problem/10871)\n",
    "정수 N개로 이루어진 수열 A와 정수 X가 주어진다. 이때, A에서 X보다 작은 수를 모두 출력하는 프로그램을 작성하시오.\n",
    "\n",
    "### 입력\n",
    "첫째 줄에 N과 X가 주어진다. (1 ≤ N, X ≤ 10,000)\n",
    "\n",
    "둘째 줄에 수열 A를 이루는 정수 N개가 주어진다. 주어지는 정수는 모두 1보다 크거나 같고, 10,000보다 작거나 같은 정수이다.\n",
    "\n",
    "### 출력\n",
    "X보다 작은 수를 입력받은 순서대로 공백으로 구분해 출력한다. X보다 작은 수는 적어도 하나 존재한다.\n",
    "\n",
    "### 알고리즘 분류\n",
    "수학, 구현"
   ]
  },
  {
   "cell_type": "markdown",
   "id": "c9140e3f",
   "metadata": {},
   "source": [
    "### # 문제 접근 방법\n",
    "1. x보다 작은 수를 저장할 빈 리스트 minA를 만든다.\n",
    "2. for문으로 입력받은 행렬의 값과 x를 비교하고, 값이 x보다 작으면 리스트 minA에 추가한다.\n",
    "3. 제시된 출력의 양식을 구현하기 위해 for문으로 요소를 나타내고, end = ' '로 한 줄에 출력하도록 한다."
   ]
  },
  {
   "cell_type": "code",
   "execution_count": null,
   "id": "f34c3963",
   "metadata": {},
   "outputs": [],
   "source": [
    "import sys\n",
    "\n",
    "input = sys.stdin.readline\n",
    "n, x = map(int,sys.stdin.readline().split())\n",
    "a = list(map(int, sys.stdin.readline().split()))\n",
    "\n",
    "minA = []\n",
    "\n",
    "for i in range(len(a)):\n",
    "    if a[i] < x:\n",
    "        minA.append(a[i])\n",
    "\n",
    "for k in range(len(minA)):\n",
    "    print(minA[k], end =' ')"
   ]
  }
 ],
 "metadata": {
  "kernelspec": {
   "display_name": "Python 3 (ipykernel)",
   "language": "python",
   "name": "python3"
  },
  "language_info": {
   "codemirror_mode": {
    "name": "ipython",
    "version": 3
   },
   "file_extension": ".py",
   "mimetype": "text/x-python",
   "name": "python",
   "nbconvert_exporter": "python",
   "pygments_lexer": "ipython3",
   "version": "3.9.7"
  }
 },
 "nbformat": 4,
 "nbformat_minor": 5
}
